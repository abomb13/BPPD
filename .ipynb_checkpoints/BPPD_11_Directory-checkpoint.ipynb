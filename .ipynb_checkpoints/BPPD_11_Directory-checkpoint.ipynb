{
 "cells": [
  {
   "cell_type": "markdown",
   "metadata": {},
   "source": [
    "# Check Current Location"
   ]
  },
  {
   "cell_type": "code",
   "execution_count": 1,
   "metadata": {},
   "outputs": [
    {
     "name": "stdout",
     "output_type": "stream",
     "text": [
      "/home/ammrlc/Documents/Python/BPPD\n"
     ]
    }
   ],
   "source": [
    "import os #imports python os library\n",
    "print(os.getcwd())"
   ]
  },
  {
   "cell_type": "markdown",
   "metadata": {},
   "source": [
    "# Get List of Files"
   ]
  },
  {
   "cell_type": "code",
   "execution_count": 2,
   "metadata": {},
   "outputs": [
    {
     "name": "stdout",
     "output_type": "stream",
     "text": [
      ".ipynb_checkpoints\n",
      "BPPD_04_Comments.ipynb\n",
      "BPPD_04_Indentation.ipynb\n",
      "BPPD_04_Sample.ipynb\n",
      "BPPD_06_Storing_And_Modifying_Information.ipynb\n",
      "BPPD_07_Managing_Information.ipynb\n",
      "BPPD_08_Making_Decisions.ipynb\n",
      "BPPD_09_Performing_Repetitive_Tasks.ipynb\n",
      "BPPD_10_Dealing_with_Errors.ipynb\n",
      "BPPD_11_Directory.ipynb\n",
      "BPPD_11_Packages.ipynb\n",
      "BPPD_11_Packages.py\n"
     ]
    }
   ],
   "source": [
    "for entry in os.listdir(): print(entry)"
   ]
  },
  {
   "cell_type": "code",
   "execution_count": null,
   "metadata": {
    "collapsed": true
   },
   "outputs": [],
   "source": []
  }
 ],
 "metadata": {
  "kernelspec": {
   "display_name": "Python 3",
   "language": "python",
   "name": "python3"
  },
  "language_info": {
   "codemirror_mode": {
    "name": "ipython",
    "version": 3
   },
   "file_extension": ".py",
   "mimetype": "text/x-python",
   "name": "python",
   "nbconvert_exporter": "python",
   "pygments_lexer": "ipython3",
   "version": "3.7.3"
  }
 },
 "nbformat": 4,
 "nbformat_minor": 2
}
