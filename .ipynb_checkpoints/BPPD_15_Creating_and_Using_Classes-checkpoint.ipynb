{
 "cells": [
  {
   "cell_type": "markdown",
   "metadata": {},
   "source": [
    "# Considering the Parts of a Class\n",
    "## Creating the class definition"
   ]
  },
  {
   "cell_type": "code",
   "execution_count": null,
   "metadata": {},
   "outputs": [],
   "source": [
    "#A class is essentially a method for packaging code\n",
    "\n",
    "###Class: Defines a blueprint for creating an object.\n",
    "\n",
    "###Class Variable: Provides a storage location used by all methods in an\n",
    "###                instance of the class. A class variable is defined\n",
    "###                within the class proper but outside of any of the class\n",
    "###                methods. The most important thing to remember in Python\n",
    "###                is that it lacks he data hiding found in other languages\n",
    "###                to promote true object orientation\n",
    "\n",
    "###Data member: Defines either a class variable or an instance variable\n",
    "###             used to hold data associated with a class and its objects\n",
    "\n",
    "###Function overloading: creates more than one version of a function,\n",
    "###                      which results in different behaviors.\n",
    "\n",
    "###Inheritance: Uses a parent class to create child classes that have the\n",
    "###             same characteristics. The child classes usually have\n",
    "###             extended functionality or provide more specific behaviors \n",
    "###             than the parent class does.\n",
    "\n",
    "###Instance: Defines an object created from the specification provided by\n",
    "###          a class. Python can create as many instances of a class to \n",
    "###          perform the work required by an application. Each instance\n",
    "###          is unique.\n",
    "\n",
    "###Instance variable: Provides a storage location used by a single method\n",
    "###                   of an instance of a class. The variable is defined\n",
    "###                   within a method. They are considered safer than\n",
    "###                   class variables because only one method of the class\n",
    "###                   can access them.\n",
    "\n",
    "###Instantination: Performs the act of creating an instance of a class.\n",
    "###                The resulting object is a unique class instance.\n",
    "\n",
    "###Method: Defines the term used for functions that are part of a class.\n",
    "###        Even though function and method essentially define the same \n",
    "###        element, method is considered more specific because only\n",
    "###        classes can have methods.\n",
    "\n",
    "###Object: Defines a unique instance of a class. The object contains all \n",
    "###        the methods and properties of the original class. However, the \n",
    "###        data for each object differs. The storage locations are unique,\n",
    "###        even if the data is the same.\n",
    "\n",
    "###Operator overloading: Creates more than one version of a fuction that\n",
    "###                      is associated with an operator such as:+,-,/,or,*,\n",
    "###                      which results in different behaviors. The\n",
    "###                      essential task of the operator may be the same,\n",
    "###                      but the way in which the operator interacts with\n",
    "###                      the data differs. Operator overloading is used\n",
    "###                      to provide flexibility so that an operator can \n",
    "###                      work with applications in various ways."
   ]
  },
  {
   "cell_type": "code",
   "execution_count": 3,
   "metadata": {},
   "outputs": [
    {
     "data": {
      "text/plain": [
       "0"
      ]
     },
     "execution_count": 3,
     "metadata": {},
     "output_type": "execute_result"
    }
   ],
   "source": [
    "class MyClass:\n",
    "   MyVar = 0\n",
    "\n",
    "MyInstance = MyClass()\n",
    "\n",
    "MyInstance.MyVar"
   ]
  },
  {
   "cell_type": "code",
   "execution_count": 2,
   "metadata": {},
   "outputs": [
    {
     "data": {
      "text/plain": [
       "__main__.MyClass"
      ]
     },
     "execution_count": 2,
     "metadata": {},
     "output_type": "execute_result"
    }
   ],
   "source": [
    "MyInstance.__class__  #displays the class used to create this instance"
   ]
  },
  {
   "cell_type": "markdown",
   "metadata": {},
   "source": [
    "## Considering the built-in class attributes"
   ]
  },
  {
   "cell_type": "code",
   "execution_count": 3,
   "metadata": {},
   "outputs": [
    {
     "name": "stdout",
     "output_type": "stream",
     "text": [
      "['MyVar', '__class__', '__delattr__', '__dict__', '__dir__', '__doc__', '__eq__', '__format__', '__ge__', '__getattribute__', '__gt__', '__hash__', '__init__', '__init_subclass__', '__le__', '__lt__', '__module__', '__ne__', '__new__', '__reduce__', '__reduce_ex__', '__repr__', '__setattr__', '__sizeof__', '__str__', '__subclasshook__', '__weakref__']\n"
     ]
    }
   ],
   "source": [
    "print(dir(MyInstance))"
   ]
  },
  {
   "cell_type": "code",
   "execution_count": 4,
   "metadata": {},
   "outputs": [
    {
     "name": "stdout",
     "output_type": "stream",
     "text": [
      "Help on class module in module builtins:\n",
      "\n",
      "__class__ = class module(object)\n",
      " |  module(name[, doc])\n",
      " |  \n",
      " |  Create a module object.\n",
      " |  The name must be a string; the optional doc argument can have any type.\n",
      " |  \n",
      " |  Methods defined here:\n",
      " |  \n",
      " |  __delattr__(self, name, /)\n",
      " |      Implement delattr(self, name).\n",
      " |  \n",
      " |  __dir__(...)\n",
      " |      __dir__() -> list\n",
      " |      specialized dir() implementation\n",
      " |  \n",
      " |  __getattribute__(self, name, /)\n",
      " |      Return getattr(self, name).\n",
      " |  \n",
      " |  __init__(self, /, *args, **kwargs)\n",
      " |      Initialize self.  See help(type(self)) for accurate signature.\n",
      " |  \n",
      " |  __new__(*args, **kwargs) from builtins.type\n",
      " |      Create and return a new object.  See help(type) for accurate signature.\n",
      " |  \n",
      " |  __repr__(self, /)\n",
      " |      Return repr(self).\n",
      " |  \n",
      " |  __setattr__(self, name, value, /)\n",
      " |      Implement setattr(self, name, value).\n",
      " |  \n",
      " |  ----------------------------------------------------------------------\n",
      " |  Data descriptors defined here:\n",
      " |  \n",
      " |  __dict__\n",
      "\n"
     ]
    }
   ],
   "source": [
    "help('__class__')"
   ]
  },
  {
   "cell_type": "markdown",
   "metadata": {},
   "source": [
    "## Working with methods\n",
    "### Creating class methods"
   ]
  },
  {
   "cell_type": "code",
   "execution_count": 5,
   "metadata": {},
   "outputs": [
    {
     "name": "stdout",
     "output_type": "stream",
     "text": [
      "Hello there!\n"
     ]
    }
   ],
   "source": [
    "class MyClass:\n",
    "   def SayHello(): #one single defined attribute\n",
    "      print(\"Hello there!\")\n",
    "\n",
    "MyClass.SayHello() #no need to create an instance of a class"
   ]
  },
  {
   "cell_type": "markdown",
   "metadata": {},
   "source": [
    "### Creating instance methods"
   ]
  },
  {
   "cell_type": "code",
   "execution_count": null,
   "metadata": {},
   "outputs": [],
   "source": [
    "#A class method can work only with class data. It doesn’t know about any\n",
    "#data associated with an instance of the class. You can pass it data as an\n",
    "#argument, and the method can return information as needed, but it can’t\n",
    "#access the instance data. As a consequence, you need to exercise care\n",
    "#when creating class methods to ensure that they’re essentially\n",
    "#self-contained."
   ]
  },
  {
   "cell_type": "code",
   "execution_count": 1,
   "metadata": {},
   "outputs": [
    {
     "name": "stdout",
     "output_type": "stream",
     "text": [
      "Hello there!\n"
     ]
    }
   ],
   "source": [
    "class MyClass:\n",
    "   def SayHello(self): #all instance methods accept a single argument as a minimum, \"self\"\n",
    "      print(\"Hello there!\")\n",
    "\n",
    "MyInstance = MyClass()\n",
    "MyInstance.SayHello()"
   ]
  },
  {
   "cell_type": "markdown",
   "metadata": {},
   "source": [
    "## Working with constructors"
   ]
  },
  {
   "cell_type": "code",
   "execution_count": 6,
   "metadata": {},
   "outputs": [
    {
     "name": "stdout",
     "output_type": "stream",
     "text": [
      "Hello there!\n"
     ]
    }
   ],
   "source": [
    "class MyClass:\n",
    "   Greeting = \"\"\n",
    "   def __init__(self, Name=\"there\"):\n",
    "      self.Greeting = Name + \"!\"\n",
    "   def SayHello(self):\n",
    "      print(\"Hello {0}\".format(self.Greeting))\n",
    "\n",
    "MyInstance = MyClass()\n",
    "MyInstance.SayHello()"
   ]
  },
  {
   "cell_type": "code",
   "execution_count": 8,
   "metadata": {
    "scrolled": true
   },
   "outputs": [
    {
     "name": "stdout",
     "output_type": "stream",
     "text": [
      "Hello Amy!\n",
      "Hello Harry!\n",
      "Hello Amy!\n"
     ]
    }
   ],
   "source": [
    "MyInstance2 = MyClass(\"Amy\")\n",
    "MyInstance2.SayHello()\n",
    "MyInstance.Greeting = \"Harry!\"\n",
    "MyInstance.SayHello()\n",
    "MyInstance2.SayHello() #changing Greeting to \"Harry!\" doesnt change the second instance"
   ]
  },
  {
   "cell_type": "markdown",
   "metadata": {},
   "source": [
    "## Working with variables\n",
    "### Creating class variables"
   ]
  },
  {
   "cell_type": "code",
   "execution_count": 3,
   "metadata": {},
   "outputs": [
    {
     "data": {
      "text/plain": [
       "'Zelda'"
      ]
     },
     "execution_count": 3,
     "metadata": {},
     "output_type": "execute_result"
    }
   ],
   "source": [
    "class MyClass:\n",
    "   Greeting = \"\"\n",
    "   def SayHello(self):\n",
    "      print(\"Hello {0}\".format(self.Greeting))\n",
    "\n",
    "MyClass.Greeting = \"Zelda\"\n",
    "MyClass.Greeting"
   ]
  },
  {
   "cell_type": "code",
   "execution_count": 4,
   "metadata": {},
   "outputs": [
    {
     "name": "stdout",
     "output_type": "stream",
     "text": [
      "Hello Zelda\n"
     ]
    }
   ],
   "source": [
    "MyInstance = MyClass()\n",
    "MyInstance.SayHello()"
   ]
  },
  {
   "cell_type": "markdown",
   "metadata": {},
   "source": [
    "### Creating instance variables"
   ]
  },
  {
   "cell_type": "code",
   "execution_count": 4,
   "metadata": {},
   "outputs": [
    {
     "name": "stdout",
     "output_type": "stream",
     "text": [
      "The sum of 1 plus 4 is 5.\n"
     ]
    }
   ],
   "source": [
    "class MyClass:\n",
    "   def DoAdd(self, Value1=0, Value2=0):\n",
    "      Sum = Value1 + Value2\n",
    "      print(\"The sum of {0} plus {1} is {2}.\"\n",
    "            .format(Value1, Value2, Sum))\n",
    "\n",
    "MyInstance = MyClass()\n",
    "MyInstance.DoAdd(1, 4)"
   ]
  },
  {
   "cell_type": "markdown",
   "metadata": {},
   "source": [
    "## Using methods with variable argument lists"
   ]
  },
  {
   "cell_type": "code",
   "execution_count": 5,
   "metadata": {},
   "outputs": [
    {
     "name": "stdout",
     "output_type": "stream",
     "text": [
      "0. Red\n",
      "1. Blue\n",
      "2. Green\n",
      "George likes Red\n",
      "Sue likes Blue\n",
      "Zarah likes Green\n"
     ]
    }
   ],
   "source": [
    "class MyClass:\n",
    "   def PrintList1(*args):\n",
    "      for Count, Item in enumerate(args): #the enumerate() function outputs both the count and the string that was passed to the function\n",
    "         print(\"{0}. {1}\".format(Count, Item))\n",
    "   def PrintList2(**kwargs):\n",
    "      for Name, Value in kwargs.items():\n",
    "         print(\"{0} likes {1}\".format(Name, Value))\n",
    "MyClass.PrintList1(\"Red\", \"Blue\", \"Green\")\n",
    "MyClass.PrintList2(George=\"Red\", Sue=\"Blue\",\n",
    "                   Zarah=\"Green\")"
   ]
  },
  {
   "cell_type": "code",
   "execution_count": 6,
   "metadata": {},
   "outputs": [
    {
     "name": "stdout",
     "output_type": "stream",
     "text": [
      "0. Red\n",
      "1. Blue\n",
      "2. Green\n",
      "George likes Red\n",
      "Sue likes Blue\n",
      "Zarah likes Green\n"
     ]
    }
   ],
   "source": [
    "class MyClass:\n",
    "    def PrintList1(self, *args):\n",
    "        for Count, Item in enumerate(args):\n",
    "            print(\"{0}. {1}\". format (Count, Item))\n",
    "    def PrintList2(self, **kwargs):\n",
    "        for Name, Value in kwargs.items():\n",
    "            print(\"{0} likes {1}\".format(Name, Value))\n",
    "            \n",
    "MyInstance1 = MyClass()\n",
    "MyInstance1.PrintList1(\"Red\", \"Blue\", \"Green\")\n",
    "\n",
    "MyInstance2 = MyClass()\n",
    "MyInstance2.PrintList2(George=\"Red\", Sue=\"Blue\", Zarah=\"Green\")"
   ]
  },
  {
   "cell_type": "markdown",
   "metadata": {},
   "source": [
    "## Overloading operators"
   ]
  },
  {
   "cell_type": "code",
   "execution_count": 2,
   "metadata": {},
   "outputs": [
    {
     "name": "stdout",
     "output_type": "stream",
     "text": [
      "Red Green Blue  + Yellow Purple Cyan  = Red Green Blue Yellow Purple Cyan \n"
     ]
    }
   ],
   "source": [
    "class MyClass:\n",
    "   def __init__(self, *args):\n",
    "      self.Input = args\n",
    "   def __add__(self, Other):\n",
    "      Output = MyClass()\n",
    "      Output.Input = self.Input + Other.Input\n",
    "      return Output\n",
    "   def __str__(self):\n",
    "      Output = \"\"\n",
    "      for Item in self.Input:\n",
    "         Output += Item\n",
    "         Output += \" \"\n",
    "      return Output\n",
    "Value1 = MyClass(\"Red\", \"Green\", \"Blue\")\n",
    "Value2 = MyClass(\"Yellow\", \"Purple\", \"Cyan\")\n",
    "Value3 = Value1 + Value2\n",
    "print(\"{0} + {1} = {2}\"\n",
    "      .format(Value1, Value2, Value3))\n"
   ]
  },
  {
   "cell_type": "markdown",
   "metadata": {},
   "source": [
    "# Using the Class in an Application"
   ]
  },
  {
   "cell_type": "code",
   "execution_count": 1,
   "metadata": {},
   "outputs": [
    {
     "name": "stdout",
     "output_type": "stream",
     "text": [
      "32\n",
      "Amy\n",
      "Sam is aged 33.\n",
      "Aimee is aged 44.\n"
     ]
    }
   ],
   "source": [
    "import BPPD_15_MyClass\n",
    "SamsRecord = BPPD_15_MyClass.MyClass() #to call the class you need to call the package and then the class \"myClass()\"\n",
    "AmysRecord = BPPD_15_MyClass.MyClass(\"Amy\", 44)\n",
    "print(SamsRecord.GetAge())\n",
    "SamsRecord.SetAge(33)\n",
    "print(AmysRecord.GetName())\n",
    "AmysRecord.SetName(\"Aimee\")\n",
    "print(SamsRecord)\n",
    "print(AmysRecord)"
   ]
  },
  {
   "cell_type": "markdown",
   "metadata": {},
   "source": [
    "# Extending Classes to Make New Classes\n",
    "## Testing the class in an application"
   ]
  },
  {
   "cell_type": "code",
   "execution_count": 7,
   "metadata": {},
   "outputs": [
    {
     "name": "stdout",
     "output_type": "stream",
     "text": [
      "Sally is a Chicken aged 2\n",
      "Sally is a Chicken aged 3\n",
      "Sorry, Sally will always be a Chicken\n",
      "Sally is a Chicken aged 3\n",
      "Sally says Cluck, Cluck, Cluck!\n"
     ]
    }
   ],
   "source": [
    "import BPPD_15_Animals\n",
    "MyChicken = BPPD_15_Animals.Chicken(\"Sally\", 2)\n",
    "print(MyChicken)\n",
    "MyChicken.SetAge(MyChicken.GetAge() + 1)\n",
    "print(MyChicken)\n",
    "MyChicken.SetType(\"Gorilla\")\n",
    "print(MyChicken)\n",
    "MyChicken.MakeSound()"
   ]
  },
  {
   "cell_type": "code",
   "execution_count": null,
   "metadata": {
    "collapsed": true
   },
   "outputs": [],
   "source": []
  }
 ],
 "metadata": {
  "kernelspec": {
   "display_name": "Python 3",
   "language": "python",
   "name": "python3"
  },
  "language_info": {
   "codemirror_mode": {
    "name": "ipython",
    "version": 3
   },
   "file_extension": ".py",
   "mimetype": "text/x-python",
   "name": "python",
   "nbconvert_exporter": "python",
   "pygments_lexer": "ipython3",
   "version": "3.7.3"
  }
 },
 "nbformat": 4,
 "nbformat_minor": 2
}
