{
 "cells": [
  {
   "cell_type": "markdown",
   "metadata": {},
   "source": [
    "# Importing Packages\n",
    "## Using the import statement"
   ]
  },
  {
   "cell_type": "code",
   "execution_count": 1,
   "metadata": {},
   "outputs": [
    {
     "data": {
      "text/plain": [
       "['SayGoodbye',\n",
       " 'SayHello',\n",
       " '__builtins__',\n",
       " '__cached__',\n",
       " '__doc__',\n",
       " '__file__',\n",
       " '__loader__',\n",
       " '__name__',\n",
       " '__package__',\n",
       " '__spec__']"
      ]
     },
     "execution_count": 1,
     "metadata": {},
     "output_type": "execute_result"
    }
   ],
   "source": [
    "import BPPD_11_Packages\n",
    "dir(BPPD_11_Packages)"
   ]
  },
  {
   "cell_type": "code",
   "execution_count": 2,
   "metadata": {},
   "outputs": [
    {
     "name": "stdout",
     "output_type": "stream",
     "text": [
      "Hello  Josh\n",
      "Goodbye  Sally\n"
     ]
    }
   ],
   "source": [
    "BPPD_11_Packages.SayHello(\"Josh\")\n",
    "BPPD_11_Packages.SayGoodbye(\"Sally\")"
   ]
  },
  {
   "cell_type": "markdown",
   "metadata": {},
   "source": [
    "## Using the from...import statement"
   ]
  },
  {
   "cell_type": "code",
   "execution_count": 3,
   "metadata": {},
   "outputs": [
    {
     "ename": "NameError",
     "evalue": "name 'BPPD_11_Packages' is not defined",
     "output_type": "error",
     "traceback": [
      "\u001b[1;31m---------------------------------------------------------------------------\u001b[0m",
      "\u001b[1;31mNameError\u001b[0m                                 Traceback (most recent call last)",
      "\u001b[1;32m<ipython-input-3-c87e6f10a47b>\u001b[0m in \u001b[0;36m<module>\u001b[1;34m()\u001b[0m\n\u001b[0;32m      2\u001b[0m \u001b[1;32mdel\u001b[0m \u001b[0msys\u001b[0m\u001b[1;33m.\u001b[0m\u001b[0mmodules\u001b[0m\u001b[1;33m[\u001b[0m\u001b[1;34m\"BPPD_11_Packages\"\u001b[0m\u001b[1;33m]\u001b[0m\u001b[1;33m\u001b[0m\u001b[0m\n\u001b[0;32m      3\u001b[0m \u001b[1;32mdel\u001b[0m \u001b[0mBPPD_11_Packages\u001b[0m\u001b[1;33m\u001b[0m\u001b[0m\n\u001b[1;32m----> 4\u001b[1;33m \u001b[0mdir\u001b[0m\u001b[1;33m(\u001b[0m\u001b[0mBPPD_11_Packages\u001b[0m\u001b[1;33m)\u001b[0m\u001b[1;33m\u001b[0m\u001b[0m\n\u001b[0m",
      "\u001b[1;31mNameError\u001b[0m: name 'BPPD_11_Packages' is not defined"
     ]
    }
   ],
   "source": [
    "import sys\n",
    "del sys.modules[\"BPPD_11_Packages\"]\n",
    "del BPPD_11_Packages\n",
    "dir(BPPD_11_Packages)"
   ]
  },
  {
   "cell_type": "code",
   "execution_count": 4,
   "metadata": {},
   "outputs": [
    {
     "ename": "NameError",
     "evalue": "name 'BPPD_11_Packages' is not defined",
     "output_type": "error",
     "traceback": [
      "\u001b[1;31m---------------------------------------------------------------------------\u001b[0m",
      "\u001b[1;31mNameError\u001b[0m                                 Traceback (most recent call last)",
      "\u001b[1;32m<ipython-input-4-2ff15770efe9>\u001b[0m in \u001b[0;36m<module>\u001b[1;34m()\u001b[0m\n\u001b[0;32m      1\u001b[0m \u001b[1;32mfrom\u001b[0m \u001b[0mBPPD_11_Packages\u001b[0m \u001b[1;32mimport\u001b[0m \u001b[0mSayHello\u001b[0m\u001b[1;33m\u001b[0m\u001b[0m\n\u001b[1;32m----> 2\u001b[1;33m \u001b[0mdir\u001b[0m\u001b[1;33m(\u001b[0m\u001b[0mBPPD_11_Packages\u001b[0m\u001b[1;33m)\u001b[0m\u001b[1;33m\u001b[0m\u001b[0m\n\u001b[0m",
      "\u001b[1;31mNameError\u001b[0m: name 'BPPD_11_Packages' is not defined"
     ]
    }
   ],
   "source": [
    "from BPPD_11_Packages import SayHello\n",
    "dir(BPPD_11_Packages)"
   ]
  },
  {
   "cell_type": "code",
   "execution_count": 5,
   "metadata": {},
   "outputs": [
    {
     "data": {
      "text/plain": [
       "['__annotations__',\n",
       " '__call__',\n",
       " '__class__',\n",
       " '__closure__',\n",
       " '__code__',\n",
       " '__defaults__',\n",
       " '__delattr__',\n",
       " '__dict__',\n",
       " '__dir__',\n",
       " '__doc__',\n",
       " '__eq__',\n",
       " '__format__',\n",
       " '__ge__',\n",
       " '__get__',\n",
       " '__getattribute__',\n",
       " '__globals__',\n",
       " '__gt__',\n",
       " '__hash__',\n",
       " '__init__',\n",
       " '__init_subclass__',\n",
       " '__kwdefaults__',\n",
       " '__le__',\n",
       " '__lt__',\n",
       " '__module__',\n",
       " '__name__',\n",
       " '__ne__',\n",
       " '__new__',\n",
       " '__qualname__',\n",
       " '__reduce__',\n",
       " '__reduce_ex__',\n",
       " '__repr__',\n",
       " '__setattr__',\n",
       " '__sizeof__',\n",
       " '__str__',\n",
       " '__subclasshook__']"
      ]
     },
     "execution_count": 5,
     "metadata": {},
     "output_type": "execute_result"
    }
   ],
   "source": [
    "dir(SayHello)"
   ]
  },
  {
   "cell_type": "code",
   "execution_count": 6,
   "metadata": {},
   "outputs": [
    {
     "name": "stdout",
     "output_type": "stream",
     "text": [
      "Hello  Angie\n"
     ]
    }
   ],
   "source": [
    "SayHello(\"Angie\")"
   ]
  },
  {
   "cell_type": "code",
   "execution_count": 7,
   "metadata": {},
   "outputs": [
    {
     "ename": "NameError",
     "evalue": "name 'SayGoodbye' is not defined",
     "output_type": "error",
     "traceback": [
      "\u001b[1;31m---------------------------------------------------------------------------\u001b[0m",
      "\u001b[1;31mNameError\u001b[0m                                 Traceback (most recent call last)",
      "\u001b[1;32m<ipython-input-7-4d3040a04f76>\u001b[0m in \u001b[0;36m<module>\u001b[1;34m()\u001b[0m\n\u001b[1;32m----> 1\u001b[1;33m \u001b[0mSayGoodbye\u001b[0m\u001b[1;33m(\u001b[0m\u001b[1;34m\"Harold\"\u001b[0m\u001b[1;33m)\u001b[0m\u001b[1;33m\u001b[0m\u001b[0m\n\u001b[0m",
      "\u001b[1;31mNameError\u001b[0m: name 'SayGoodbye' is not defined"
     ]
    }
   ],
   "source": [
    "SayGoodbye(\"Harold\")"
   ]
  },
  {
   "cell_type": "markdown",
   "metadata": {},
   "source": [
    "# Finding Packages on Disk"
   ]
  },
  {
   "cell_type": "code",
   "execution_count": 8,
   "metadata": {},
   "outputs": [
    {
     "name": "stdout",
     "output_type": "stream",
     "text": [
      "\n",
      "C:\\BP4D\n",
      "C:\\Users\\John\\Anaconda3\\python36.zip\n",
      "C:\\Users\\John\\Anaconda3\\DLLs\n",
      "C:\\Users\\John\\Anaconda3\\lib\n",
      "C:\\Users\\John\\Anaconda3\n",
      "C:\\Users\\John\\AppData\\Roaming\\Python\\Python36\\site-packages\n",
      "C:\\Users\\John\\Anaconda3\\lib\\site-packages\n",
      "C:\\Users\\John\\Anaconda3\\lib\\site-packages\\Sphinx-1.5.6-py3.6.egg\n",
      "C:\\Users\\John\\Anaconda3\\lib\\site-packages\\win32\n",
      "C:\\Users\\John\\Anaconda3\\lib\\site-packages\\win32\\lib\n",
      "C:\\Users\\John\\Anaconda3\\lib\\site-packages\\Pythonwin\n",
      "C:\\Users\\John\\Anaconda3\\lib\\site-packages\\setuptools-27.2.0-py3.6.egg\n",
      "C:\\Users\\John\\Anaconda3\\lib\\site-packages\\IPython\\extensions\n",
      "C:\\Users\\John\\.ipython\n"
     ]
    }
   ],
   "source": [
    "for p in sys.path: print(p)"
   ]
  },
  {
   "cell_type": "code",
   "execution_count": 9,
   "metadata": {},
   "outputs": [
    {
     "data": {
      "text/plain": [
       "['C:\\\\BP4D']"
      ]
     },
     "execution_count": 9,
     "metadata": {},
     "output_type": "execute_result"
    }
   ],
   "source": [
    "import os\n",
    "os.environ['PYTHONPATH'].split(os.pathsep)"
   ]
  },
  {
   "cell_type": "code",
   "execution_count": 10,
   "metadata": {},
   "outputs": [
    {
     "name": "stdout",
     "output_type": "stream",
     "text": [
      "\n",
      "C:\\BP4D\n",
      "C:\\Users\\John\\Anaconda3\\python36.zip\n",
      "C:\\Users\\John\\Anaconda3\\DLLs\n",
      "C:\\Users\\John\\Anaconda3\\lib\n",
      "C:\\Users\\John\\Anaconda3\n",
      "C:\\Users\\John\\AppData\\Roaming\\Python\\Python36\\site-packages\n",
      "C:\\Users\\John\\Anaconda3\\lib\\site-packages\n",
      "C:\\Users\\John\\Anaconda3\\lib\\site-packages\\Sphinx-1.5.6-py3.6.egg\n",
      "C:\\Users\\John\\Anaconda3\\lib\\site-packages\\win32\n",
      "C:\\Users\\John\\Anaconda3\\lib\\site-packages\\win32\\lib\n",
      "C:\\Users\\John\\Anaconda3\\lib\\site-packages\\Pythonwin\n",
      "C:\\Users\\John\\Anaconda3\\lib\\site-packages\\setuptools-27.2.0-py3.6.egg\n",
      "C:\\Users\\John\\Anaconda3\\lib\\site-packages\\IPython\\extensions\n",
      "C:\\Users\\John\\.ipython\n",
      "C:\\Users\\John\\BPPD\n"
     ]
    }
   ],
   "source": [
    "sys.path.append(os.getcwd())\n",
    "for p in sys.path: print(p)"
   ]
  },
  {
   "cell_type": "code",
   "execution_count": 11,
   "metadata": {},
   "outputs": [
    {
     "name": "stdout",
     "output_type": "stream",
     "text": [
      "\n",
      "C:\\BP4D\n",
      "C:\\Users\\John\\Anaconda3\\python36.zip\n",
      "C:\\Users\\John\\Anaconda3\\DLLs\n",
      "C:\\Users\\John\\Anaconda3\\lib\n",
      "C:\\Users\\John\\Anaconda3\n",
      "C:\\Users\\John\\AppData\\Roaming\\Python\\Python36\\site-packages\n",
      "C:\\Users\\John\\Anaconda3\\lib\\site-packages\n",
      "C:\\Users\\John\\Anaconda3\\lib\\site-packages\\Sphinx-1.5.6-py3.6.egg\n",
      "C:\\Users\\John\\Anaconda3\\lib\\site-packages\\win32\n",
      "C:\\Users\\John\\Anaconda3\\lib\\site-packages\\win32\\lib\n",
      "C:\\Users\\John\\Anaconda3\\lib\\site-packages\\Pythonwin\n",
      "C:\\Users\\John\\Anaconda3\\lib\\site-packages\\setuptools-27.2.0-py3.6.egg\n",
      "C:\\Users\\John\\Anaconda3\\lib\\site-packages\\IPython\\extensions\n",
      "C:\\Users\\John\\.ipython\n"
     ]
    }
   ],
   "source": [
    "sys.path.remove(os.getcwd())\n",
    "for p in sys.path: print(p)"
   ]
  },
  {
   "cell_type": "markdown",
   "metadata": {
    "collapsed": true
   },
   "source": [
    "# Viewing the Package Content"
   ]
  },
  {
   "cell_type": "code",
   "execution_count": 12,
   "metadata": {},
   "outputs": [
    {
     "data": {
      "text/plain": [
       "['__annotations__',\n",
       " '__call__',\n",
       " '__class__',\n",
       " '__closure__',\n",
       " '__code__',\n",
       " '__defaults__',\n",
       " '__delattr__',\n",
       " '__dict__',\n",
       " '__dir__',\n",
       " '__doc__',\n",
       " '__eq__',\n",
       " '__format__',\n",
       " '__ge__',\n",
       " '__get__',\n",
       " '__getattribute__',\n",
       " '__globals__',\n",
       " '__gt__',\n",
       " '__hash__',\n",
       " '__init__',\n",
       " '__init_subclass__',\n",
       " '__kwdefaults__',\n",
       " '__le__',\n",
       " '__lt__',\n",
       " '__module__',\n",
       " '__name__',\n",
       " '__ne__',\n",
       " '__new__',\n",
       " '__qualname__',\n",
       " '__reduce__',\n",
       " '__reduce_ex__',\n",
       " '__repr__',\n",
       " '__setattr__',\n",
       " '__sizeof__',\n",
       " '__str__',\n",
       " '__subclasshook__']"
      ]
     },
     "execution_count": 12,
     "metadata": {},
     "output_type": "execute_result"
    }
   ],
   "source": [
    "import BPPD_11_Packages\n",
    "dir(BPPD_11_Packages.SayHello)"
   ]
  },
  {
   "cell_type": "code",
   "execution_count": 13,
   "metadata": {},
   "outputs": [
    {
     "name": "stdout",
     "output_type": "stream",
     "text": [
      "Help on built-in function __sizeof__:\n",
      "\n",
      "__sizeof__(...)\n",
      "    __sizeof__() -> int\n",
      "    size of object in memory, in bytes\n",
      "\n"
     ]
    }
   ],
   "source": [
    "help(\"__sizeof__\")"
   ]
  },
  {
   "cell_type": "code",
   "execution_count": 14,
   "metadata": {},
   "outputs": [
    {
     "data": {
      "text/plain": [
       "112"
      ]
     },
     "execution_count": 14,
     "metadata": {},
     "output_type": "execute_result"
    }
   ],
   "source": [
    "BPPD_11_Packages.SayHello.__sizeof__()"
   ]
  },
  {
   "cell_type": "code",
   "execution_count": null,
   "metadata": {
    "collapsed": true
   },
   "outputs": [],
   "source": []
  }
 ],
 "metadata": {
  "kernelspec": {
   "display_name": "Python 3",
   "language": "python",
   "name": "python3"
  },
  "language_info": {
   "codemirror_mode": {
    "name": "ipython",
    "version": 3
   },
   "file_extension": ".py",
   "mimetype": "text/x-python",
   "name": "python",
   "nbconvert_exporter": "python",
   "pygments_lexer": "ipython3",
   "version": "3.6.1"
  }
 },
 "nbformat": 4,
 "nbformat_minor": 2
}
