{
 "cells": [
  {
   "cell_type": "markdown",
   "metadata": {},
   "source": [
    "# Catching Exceptions\n",
    "## Basic exception handling\n",
    "### Handling a single exception"
   ]
  },
  {
   "cell_type": "code",
   "execution_count": 1,
   "metadata": {},
   "outputs": [
    {
     "name": "stdout",
     "output_type": "stream",
     "text": [
      "Type a number between 1 and 10: Hello\n",
      "You must type a number between 1 and 10!\n"
     ]
    }
   ],
   "source": [
    "try:\n",
    "   Value = int(input(\"Type a number between 1 and 10: \"))\n",
    "except ValueError:\n",
    "   print(\"You must type a number between 1 and 10!\")\n",
    "else:\n",
    "   if (Value > 0) and (Value <= 10):\n",
    "      print(\"You typed: \", Value)\n",
    "   else:\n",
    "      print(\"The value you typed is incorrect!\")"
   ]
  },
  {
   "cell_type": "code",
   "execution_count": 2,
   "metadata": {},
   "outputs": [
    {
     "name": "stdout",
     "output_type": "stream",
     "text": [
      "Type a number between 1 and 10: 5.5\n",
      "You must type a number between 1 and 10!\n"
     ]
    }
   ],
   "source": [
    "try:\n",
    "   Value = int(input(\"Type a number between 1 and 10: \"))\n",
    "except ValueError:\n",
    "   print(\"You must type a number between 1 and 10!\")\n",
    "else:\n",
    "   if (Value > 0) and (Value <= 10):\n",
    "      print(\"You typed: \", Value)\n",
    "   else:\n",
    "      print(\"The value you typed is incorrect!\")"
   ]
  },
  {
   "cell_type": "code",
   "execution_count": 3,
   "metadata": {},
   "outputs": [
    {
     "name": "stdout",
     "output_type": "stream",
     "text": [
      "Type a number between 1 and 10: 22\n",
      "The value you typed is incorrect!\n"
     ]
    }
   ],
   "source": [
    "try:\n",
    "   Value = int(input(\"Type a number between 1 and 10: \"))\n",
    "except ValueError:\n",
    "   print(\"You must type a number between 1 and 10!\")\n",
    "else:\n",
    "   if (Value > 0) and (Value <= 10):\n",
    "      print(\"You typed: \", Value)\n",
    "   else:\n",
    "      print(\"The value you typed is incorrect!\")"
   ]
  },
  {
   "cell_type": "code",
   "execution_count": 4,
   "metadata": {},
   "outputs": [
    {
     "name": "stdout",
     "output_type": "stream",
     "text": [
      "Type a number between 1 and 10: 7\n",
      "You typed:  7\n"
     ]
    }
   ],
   "source": [
    "try:\n",
    "   Value = int(input(\"Type a number between 1 and 10: \"))\n",
    "except ValueError:\n",
    "   print(\"You must type a number between 1 and 10!\")\n",
    "else:\n",
    "   if (Value > 0) and (Value <= 10):\n",
    "      print(\"You typed: \", Value)\n",
    "   else:\n",
    "      print(\"The value you typed is incorrect!\")"
   ]
  },
  {
   "cell_type": "markdown",
   "metadata": {},
   "source": [
    "### Using the except clause without an exception"
   ]
  },
  {
   "cell_type": "code",
   "execution_count": 5,
   "metadata": {},
   "outputs": [
    {
     "ename": "SyntaxError",
     "evalue": "default 'except:' must be last (<ipython-input-5-587f65f032cf>, line 2)",
     "output_type": "error",
     "traceback": [
      "\u001b[1;36m  File \u001b[1;32m\"<ipython-input-5-587f65f032cf>\"\u001b[1;36m, line \u001b[1;32m2\u001b[0m\n\u001b[1;33m    Value = int(input(\"Type a number between 1 and 10: \"))\u001b[0m\n\u001b[1;37m    ^\u001b[0m\n\u001b[1;31mSyntaxError\u001b[0m\u001b[1;31m:\u001b[0m default 'except:' must be last\n"
     ]
    }
   ],
   "source": [
    "try:\n",
    "   Value = int(input(\"Type a number between 1 and 10: \"))\n",
    "except:\n",
    "   print(\"This is the generic error!\")\n",
    "except ValueError:\n",
    "   print(\"You must type a number between 1 and 10!\")\n",
    "else:\n",
    "   if (Value > 0) and (Value <= 10):\n",
    "      print(\"You typed: \", Value)\n",
    "   else:\n",
    "      print(\"The value you typed is incorrect!\")"
   ]
  },
  {
   "cell_type": "code",
   "execution_count": 6,
   "metadata": {},
   "outputs": [
    {
     "name": "stdout",
     "output_type": "stream",
     "text": [
      "Type a number between 1 and 10: Hello\n",
      "You must type a number between 1 and 10!\n"
     ]
    }
   ],
   "source": [
    "try:\n",
    "   Value = int(input(\"Type a number between 1 and 10: \"))\n",
    "except ValueError:\n",
    "   print(\"You must type a number between 1 and 10!\")\n",
    "except:\n",
    "   print(\"This is the generic error!\")\n",
    "else:\n",
    "   if (Value > 0) and (Value <= 10):\n",
    "      print(\"You typed: \", Value)\n",
    "   else:\n",
    "      print(\"The value you typed is incorrect!\")"
   ]
  },
  {
   "cell_type": "code",
   "execution_count": 7,
   "metadata": {},
   "outputs": [
    {
     "name": "stdout",
     "output_type": "stream",
     "text": [
      "Type a number between 1 and 10: 5.5\n",
      "This is the generic error!\n"
     ]
    }
   ],
   "source": [
    "try:\n",
    "   Value = int(input(\"Type a number between 1 and 10: \"))\n",
    "except ValueError:\n",
    "   print(\"You must type a number between 1 and 10!\")\n",
    "except:\n",
    "   print(\"This is the generic error!\")\n",
    "else:\n",
    "   if (Value > 0) and (Value <= 10):\n",
    "      print(\"You typed: \", Value)\n",
    "   else:\n",
    "      print(\"The value you typed is incorrect!\")"
   ]
  },
  {
   "cell_type": "code",
   "execution_count": 8,
   "metadata": {},
   "outputs": [
    {
     "name": "stdout",
     "output_type": "stream",
     "text": [
      "Type a number between 1 and 10: 7\n",
      "You typed:  7\n"
     ]
    }
   ],
   "source": [
    "try:\n",
    "   Value = int(input(\"Type a number between 1 and 10: \"))\n",
    "except ValueError:\n",
    "   print(\"You must type a number between 1 and 10!\")\n",
    "except:\n",
    "   print(\"This is the generic error!\")\n",
    "else:\n",
    "   if (Value > 0) and (Value <= 10):\n",
    "      print(\"You typed: \", Value)\n",
    "   else:\n",
    "      print(\"The value you typed is incorrect!\")"
   ]
  },
  {
   "cell_type": "markdown",
   "metadata": {},
   "source": [
    "### Working with exception arguments"
   ]
  },
  {
   "cell_type": "code",
   "execution_count": 9,
   "metadata": {},
   "outputs": [
    {
     "name": "stdout",
     "output_type": "stream",
     "text": [
      "Error opening file!\r\n",
      "Error Number: 2\r\n",
      "Error Text: No such file or directory\n"
     ]
    }
   ],
   "source": [
    "import sys\n",
    "try:\n",
    "   File = open('myfile.txt')\n",
    "except IOError as e:\n",
    "   print(\"Error opening file!\\r\\n\" +\n",
    "      \"Error Number: {0}\\r\\n\".format(e.errno) +\n",
    "      \"Error Text: {0}\".format(e.strerror))\n",
    "else:\n",
    "   print(\"File opened as expected.\")\n",
    "   File.close();"
   ]
  },
  {
   "cell_type": "markdown",
   "metadata": {},
   "source": [
    "### **_Sidebar:_** Obtaining a list of exception arguments"
   ]
  },
  {
   "cell_type": "code",
   "execution_count": 10,
   "metadata": {},
   "outputs": [
    {
     "name": "stdout",
     "output_type": "stream",
     "text": [
      "2\n",
      "No such file or directory\n"
     ]
    }
   ],
   "source": [
    "import sys\n",
    "try:\n",
    "   File = open('myfile.txt')\n",
    "except IOError as e:\n",
    "   for Arg in e.args:\n",
    "      print(Arg)\n",
    "else:\n",
    "   print(\"File opened as expected.\")\n",
    "   File.close();"
   ]
  },
  {
   "cell_type": "code",
   "execution_count": 11,
   "metadata": {},
   "outputs": [
    {
     "name": "stdout",
     "output_type": "stream",
     "text": [
      "args  =  (2, 'No such file or directory')\n",
      "Attribute  characters_written  not accessible.\n",
      "errno  =  2\n",
      "filename  =  myfile.txt\n",
      "filename2  =  None\n",
      "strerror  =  No such file or directory\n",
      "winerror  =  None\n",
      "with_traceback  =  <built-in method with_traceback of FileNotFoundError object at 0x0000000004A0C268>\n"
     ]
    }
   ],
   "source": [
    "import sys\n",
    "try:\n",
    "   File = open('myfile.txt')\n",
    "except IOError as e:\n",
    "   for Entry in dir(e):\n",
    "      if (not Entry.startswith(\"_\")):\n",
    "         try:\n",
    "            print(Entry, \" = \", e.__getattribute__(Entry))\n",
    "         except AttributeError:\n",
    "            print(\"Attribute \", Entry, \" not accessible.\")\n",
    "else:\n",
    "   print(\"File opened as expected.\")\n",
    "   File.close();"
   ]
  },
  {
   "cell_type": "markdown",
   "metadata": {},
   "source": [
    "### Handling multiple exceptions with a single except clause"
   ]
  },
  {
   "cell_type": "code",
   "execution_count": 12,
   "metadata": {},
   "outputs": [
    {
     "name": "stdout",
     "output_type": "stream",
     "text": [
      "Type a number between 1 and 10: Hello\n",
      "You must type a number between 1 and 10!\n"
     ]
    }
   ],
   "source": [
    "try:\n",
    "   Value = int(input(\"Type a number between 1 and 10: \"))\n",
    "except (ValueError, KeyboardInterrupt):\n",
    "   print(\"You must type a number between 1 and 10!\")\n",
    "else:\n",
    "   if (Value > 0) and (Value <= 10):\n",
    "      print(\"You typed: \", Value)\n",
    "   else:\n",
    "      print(\"The value you typed is incorrect!\")"
   ]
  },
  {
   "cell_type": "code",
   "execution_count": 13,
   "metadata": {},
   "outputs": [
    {
     "name": "stdout",
     "output_type": "stream",
     "text": [
      "Type a number between 1 and 10: 5.5\n",
      "You must type a number between 1 and 10!\n"
     ]
    }
   ],
   "source": [
    "try:\n",
    "   Value = int(input(\"Type a number between 1 and 10: \"))\n",
    "except (ValueError, KeyboardInterrupt):\n",
    "   print(\"You must type a number between 1 and 10!\")\n",
    "else:\n",
    "   if (Value > 0) and (Value <= 10):\n",
    "      print(\"You typed: \", Value)\n",
    "   else:\n",
    "      print(\"The value you typed is incorrect!\")"
   ]
  },
  {
   "cell_type": "code",
   "execution_count": 14,
   "metadata": {},
   "outputs": [
    {
     "name": "stdout",
     "output_type": "stream",
     "text": [
      "Type a number between 1 and 10: 7\n",
      "You typed:  7\n"
     ]
    }
   ],
   "source": [
    "try:\n",
    "   Value = int(input(\"Type a number between 1 and 10: \"))\n",
    "except (ValueError, KeyboardInterrupt):\n",
    "   print(\"You must type a number between 1 and 10!\")\n",
    "else:\n",
    "   if (Value > 0) and (Value <= 10):\n",
    "      print(\"You typed: \", Value)\n",
    "   else:\n",
    "      print(\"The value you typed is incorrect!\")"
   ]
  },
  {
   "cell_type": "markdown",
   "metadata": {},
   "source": [
    "### Handling multiple exceptions with multiple except clauses"
   ]
  },
  {
   "cell_type": "code",
   "execution_count": 15,
   "metadata": {},
   "outputs": [
    {
     "name": "stdout",
     "output_type": "stream",
     "text": [
      "Type a number between 1 and 10: Hello\n",
      "You must type a number between 1 and 10!\n"
     ]
    }
   ],
   "source": [
    "try:\n",
    "   Value = int(input(\"Type a number between 1 and 10: \"))\n",
    "except ValueError:\n",
    "   print(\"You must type a number between 1 and 10!\")\n",
    "except KeyboardInterrupt:\n",
    "   print(\"You pressed Ctrl+C!\")\n",
    "else:\n",
    "   if (Value > 0) and (Value <= 10):\n",
    "      print(\"You typed: \", Value)\n",
    "   else:\n",
    "      print(\"The value you typed is incorrect!\")"
   ]
  },
  {
   "cell_type": "code",
   "execution_count": 16,
   "metadata": {},
   "outputs": [
    {
     "name": "stdout",
     "output_type": "stream",
     "text": [
      "Type a number between 1 and 10: 22\n",
      "The value you typed is incorrect!\n"
     ]
    }
   ],
   "source": [
    "try:\n",
    "   Value = int(input(\"Type a number between 1 and 10: \"))\n",
    "except ValueError:\n",
    "   print(\"You must type a number between 1 and 10!\")\n",
    "except KeyboardInterrupt:\n",
    "   print(\"You pressed Ctrl+C!\")\n",
    "else:\n",
    "   if (Value > 0) and (Value <= 10):\n",
    "      print(\"You typed: \", Value)\n",
    "   else:\n",
    "      print(\"The value you typed is incorrect!\")"
   ]
  },
  {
   "cell_type": "code",
   "execution_count": 17,
   "metadata": {},
   "outputs": [
    {
     "name": "stdout",
     "output_type": "stream",
     "text": [
      "Type a number between 1 and 10: 5.5\n",
      "You pressed Ctrl+C!\n"
     ]
    }
   ],
   "source": [
    "try:\n",
    "   Value = int(input(\"Type a number between 1 and 10: \"))\n",
    "except ValueError:\n",
    "   print(\"You must type a number between 1 and 10!\")\n",
    "except KeyboardInterrupt:\n",
    "   print(\"You pressed Ctrl+C!\")\n",
    "else:\n",
    "   if (Value > 0) and (Value <= 10):\n",
    "      print(\"You typed: \", Value)\n",
    "   else:\n",
    "      print(\"The value you typed is incorrect!\")"
   ]
  },
  {
   "cell_type": "code",
   "execution_count": 18,
   "metadata": {},
   "outputs": [
    {
     "name": "stdout",
     "output_type": "stream",
     "text": [
      "Type a number between 1 and 10: 7\n",
      "You typed:  7\n"
     ]
    }
   ],
   "source": [
    "try:\n",
    "   Value = int(input(\"Type a number between 1 and 10: \"))\n",
    "except ValueError:\n",
    "   print(\"You must type a number between 1 and 10!\")\n",
    "except KeyboardInterrupt:\n",
    "   print(\"You pressed Ctrl+C!\")\n",
    "else:\n",
    "   if (Value > 0) and (Value <= 10):\n",
    "      print(\"You typed: \", Value)\n",
    "   else:\n",
    "      print(\"The value you typed is incorrect!\")"
   ]
  },
  {
   "cell_type": "markdown",
   "metadata": {},
   "source": [
    "## Handling more specific to less specific exceptions"
   ]
  },
  {
   "cell_type": "code",
   "execution_count": 19,
   "metadata": {},
   "outputs": [
    {
     "name": "stdout",
     "output_type": "stream",
     "text": [
      "Type the first number: Hello\n",
      "You must type a whole number!\n"
     ]
    }
   ],
   "source": [
    "try:\n",
    "   Value1 = int(input(\"Type the first number: \"))\n",
    "   Value2 = int(input(\"Type the second number: \"))\n",
    "   Output = Value1 / Value2\n",
    "except ValueError:\n",
    "   print(\"You must type a whole number!\")\n",
    "except KeyboardInterrupt:\n",
    "   print(\"You pressed Ctrl+C!\")\n",
    "except ArithmeticError:\n",
    "   print(\"An undefined math error occurred.\")\n",
    "except ZeroDivisionError:\n",
    "   print(\"Attempted to divide by zero!\")\n",
    "else:\n",
    "   print(Output)"
   ]
  },
  {
   "cell_type": "code",
   "execution_count": 20,
   "metadata": {},
   "outputs": [
    {
     "name": "stdout",
     "output_type": "stream",
     "text": [
      "Type the first number: 8\n",
      "Type the second number: 0\n",
      "An undefined math error occurred.\n"
     ]
    }
   ],
   "source": [
    "try:\n",
    "   Value1 = int(input(\"Type the first number: \"))\n",
    "   Value2 = int(input(\"Type the second number: \"))\n",
    "   Output = Value1 / Value2\n",
    "except ValueError:\n",
    "   print(\"You must type a whole number!\")\n",
    "except KeyboardInterrupt:\n",
    "   print(\"You pressed Ctrl+C!\")\n",
    "except ArithmeticError:\n",
    "   print(\"An undefined math error occurred.\")\n",
    "except ZeroDivisionError:\n",
    "   print(\"Attempted to divide by zero!\")\n",
    "else:\n",
    "   print(Output)"
   ]
  },
  {
   "cell_type": "code",
   "execution_count": 21,
   "metadata": {},
   "outputs": [
    {
     "name": "stdout",
     "output_type": "stream",
     "text": [
      "Type the first number: 8\n",
      "Type the second number: 0\n",
      "Attempted to divide by zero!\n"
     ]
    }
   ],
   "source": [
    "try:\n",
    "   Value1 = int(input(\"Type the first number: \"))\n",
    "   Value2 = int(input(\"Type the second number: \"))\n",
    "   Output = Value1 / Value2\n",
    "except ValueError:\n",
    "   print(\"You must type a whole number!\")\n",
    "except KeyboardInterrupt:\n",
    "   print(\"You pressed Ctrl+C!\")\n",
    "except ZeroDivisionError:\n",
    "   print(\"Attempted to divide by zero!\")\n",
    "except ArithmeticError:\n",
    "   print(\"An undefined math error occurred.\")\n",
    "else:\n",
    "   print(Output)"
   ]
  },
  {
   "cell_type": "code",
   "execution_count": 22,
   "metadata": {},
   "outputs": [
    {
     "name": "stdout",
     "output_type": "stream",
     "text": [
      "Type the first number: 8\n",
      "Type the second number: 2\n",
      "4.0\n"
     ]
    }
   ],
   "source": [
    "try:\n",
    "   Value1 = int(input(\"Type the first number: \"))\n",
    "   Value2 = int(input(\"Type the second number: \"))\n",
    "   Output = Value1 / Value2\n",
    "except ValueError:\n",
    "   print(\"You must type a whole number!\")\n",
    "except KeyboardInterrupt:\n",
    "   print(\"You pressed Ctrl+C!\")\n",
    "except ZeroDivisionError:\n",
    "   print(\"Attempted to divide by zero!\")\n",
    "except ArithmeticError:\n",
    "   print(\"An undefined math error occurred.\")\n",
    "else:\n",
    "   print(Output)"
   ]
  },
  {
   "cell_type": "markdown",
   "metadata": {},
   "source": [
    "## Nested exception handling"
   ]
  },
  {
   "cell_type": "code",
   "execution_count": 23,
   "metadata": {},
   "outputs": [
    {
     "name": "stdout",
     "output_type": "stream",
     "text": [
      "Type a whole number. Hello\n",
      "You must type a whole number!\n",
      "Try again (y/n)? Y\n",
      "Type a whole number. 5.5\n",
      "You must type a whole number!\n",
      "Try again (y/n)? Y\n",
      "OK, see you next time!\n"
     ]
    }
   ],
   "source": [
    "TryAgain = True\n",
    "while TryAgain:\n",
    "   try:\n",
    "      Value = int(input(\"Type a whole number. \"))\n",
    "   except ValueError:\n",
    "      print(\"You must type a whole number!\")\n",
    "      try:\n",
    "         DoOver = input(\"Try again (y/n)? \")\n",
    "      except:\n",
    "         print(\"OK, see you next time!\")\n",
    "         TryAgain = False\n",
    "      else:\n",
    "         if (str.upper(DoOver) == \"N\"):\n",
    "            TryAgain = False\n",
    "   except KeyboardInterrupt:\n",
    "      print(\"You pressed Ctrl+C!\")\n",
    "      print(\"See you next time!\")\n",
    "      TryAgain = False\n",
    "   else:\n",
    "      print(Value)\n",
    "      TryAgain = False"
   ]
  },
  {
   "cell_type": "code",
   "execution_count": 24,
   "metadata": {},
   "outputs": [
    {
     "name": "stdout",
     "output_type": "stream",
     "text": [
      "Type a whole number. 5.5\n",
      "You pressed Ctrl+C!\n",
      "See you next time!\n"
     ]
    }
   ],
   "source": [
    "TryAgain = True\n",
    "while TryAgain:\n",
    "   try:\n",
    "      Value = int(input(\"Type a whole number. \"))\n",
    "   except ValueError:\n",
    "      print(\"You must type a whole number!\")\n",
    "      try:\n",
    "         DoOver = input(\"Try again (y/n)? \")\n",
    "      except:\n",
    "         print(\"OK, see you next time!\")\n",
    "         TryAgain = False\n",
    "      else:\n",
    "         if (str.upper(DoOver) == \"N\"):\n",
    "            TryAgain = False\n",
    "   except KeyboardInterrupt:\n",
    "      print(\"You pressed Ctrl+C!\")\n",
    "      print(\"See you next time!\")\n",
    "      TryAgain = False\n",
    "   else:\n",
    "      print(Value)\n",
    "      TryAgain = False"
   ]
  },
  {
   "cell_type": "markdown",
   "metadata": {},
   "source": [
    "# Raising Exceptions\n",
    "## Raising exceptions during exceptional conditions"
   ]
  },
  {
   "cell_type": "code",
   "execution_count": 25,
   "metadata": {},
   "outputs": [
    {
     "name": "stdout",
     "output_type": "stream",
     "text": [
      "ValueError Exception!\n"
     ]
    }
   ],
   "source": [
    "try:\n",
    "   raise ValueError\n",
    "except ValueError:\n",
    "   print(\"ValueError Exception!\")"
   ]
  },
  {
   "cell_type": "markdown",
   "metadata": {},
   "source": [
    "## Passing error information to the caller"
   ]
  },
  {
   "cell_type": "code",
   "execution_count": 26,
   "metadata": {},
   "outputs": [
    {
     "name": "stdout",
     "output_type": "stream",
     "text": [
      "ValueError Exception! Value must be within 1 and 10.\n"
     ]
    }
   ],
   "source": [
    "try:\n",
    "   Ex = ValueError()\n",
    "   Ex.strerror = \"Value must be within 1 and 10.\"\n",
    "   raise Ex\n",
    "except ValueError as e:\n",
    "   print(\"ValueError Exception!\", e.strerror)"
   ]
  },
  {
   "cell_type": "markdown",
   "metadata": {},
   "source": [
    "# Creating and Using Custom Exceptions"
   ]
  },
  {
   "cell_type": "code",
   "execution_count": 27,
   "metadata": {},
   "outputs": [
    {
     "name": "stdout",
     "output_type": "stream",
     "text": [
      "CustomValueError Exception! Value must be within 1 and 10.\n"
     ]
    }
   ],
   "source": [
    "class CustomValueError(ValueError):\n",
    "   def __init__(self, arg):\n",
    "      self.strerror = arg\n",
    "      self.args = {arg}\n",
    "try:\n",
    "   raise CustomValueError(\"Value must be within 1 and 10.\")\n",
    "except CustomValueError as e:\n",
    "   print(\"CustomValueError Exception!\", e.strerror)"
   ]
  },
  {
   "cell_type": "markdown",
   "metadata": {},
   "source": [
    "# Using the finally Clause"
   ]
  },
  {
   "cell_type": "code",
   "execution_count": 1,
   "metadata": {},
   "outputs": [
    {
     "name": "stdout",
     "output_type": "stream",
     "text": [
      "ValueError Exception!\n",
      "Taking care of last minute details.\n"
     ]
    },
    {
     "ename": "SystemExit",
     "evalue": "",
     "output_type": "error",
     "traceback": [
      "An exception has occurred, use %tb to see the full traceback.\n",
      "\u001b[1;31mSystemExit\u001b[0m\n"
     ]
    },
    {
     "name": "stderr",
     "output_type": "stream",
     "text": [
      "C:\\Users\\John\\Anaconda3\\lib\\site-packages\\IPython\\core\\interactiveshell.py:2889: UserWarning: To exit: use 'exit', 'quit', or Ctrl-D.\n",
      "  warn(\"To exit: use 'exit', 'quit', or Ctrl-D.\", stacklevel=1)\n"
     ]
    }
   ],
   "source": [
    "import sys\n",
    "try:\n",
    "   raise ValueError\n",
    "   print(\"Raising an exception.\")\n",
    "except ValueError:\n",
    "   print(\"ValueError Exception!\")\n",
    "   sys.exit()\n",
    "finally:\n",
    "   print(\"Taking care of last minute details.\")\n",
    "print(\"This code will never execute.\")"
   ]
  },
  {
   "cell_type": "code",
   "execution_count": 2,
   "metadata": {},
   "outputs": [
    {
     "name": "stdout",
     "output_type": "stream",
     "text": [
      "Raising an exception.\n",
      "Taking care of last minute details.\n",
      "This code will never execute.\n"
     ]
    }
   ],
   "source": [
    "import sys\n",
    "try:\n",
    "   ## raise ValueError\n",
    "   print(\"Raising an exception.\")\n",
    "except ValueError:\n",
    "   print(\"ValueError Exception!\")\n",
    "   sys.exit()\n",
    "finally:\n",
    "   print(\"Taking care of last minute details.\")\n",
    "print(\"This code will never execute.\")"
   ]
  },
  {
   "cell_type": "code",
   "execution_count": null,
   "metadata": {
    "collapsed": true
   },
   "outputs": [],
   "source": []
  }
 ],
 "metadata": {
  "kernelspec": {
   "display_name": "Python 3",
   "language": "python",
   "name": "python3"
  },
  "language_info": {
   "codemirror_mode": {
    "name": "ipython",
    "version": 3
   },
   "file_extension": ".py",
   "mimetype": "text/x-python",
   "name": "python",
   "nbconvert_exporter": "python",
   "pygments_lexer": "ipython3",
   "version": "3.6.1"
  }
 },
 "nbformat": 4,
 "nbformat_minor": 2
}
