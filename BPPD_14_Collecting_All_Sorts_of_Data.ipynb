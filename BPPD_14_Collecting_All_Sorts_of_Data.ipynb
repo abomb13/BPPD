{
 "cells": [
  {
   "cell_type": "markdown",
   "metadata": {},
   "source": [
    "# Working with Tuples"
   ]
  },
  {
   "cell_type": "code",
   "execution_count": null,
   "metadata": {},
   "outputs": [],
   "source": [
    "#the biggest difference between a tuple and a list are that a tuple \n",
    "#is immutable (you can't change it) and allows you to embed one tuple\n",
    "#inside another"
   ]
  },
  {
   "cell_type": "code",
   "execution_count": 1,
   "metadata": {
    "scrolled": true
   },
   "outputs": [
    {
     "data": {
      "text/plain": [
       "('Red', 'Blue', 'Green')"
      ]
     },
     "execution_count": 1,
     "metadata": {},
     "output_type": "execute_result"
    }
   ],
   "source": [
    "MyTuple = (\"Red\", \"Blue\", \"Green\") #tuples use parentheses rather than square brackets as lists do\n",
    "MyTuple"
   ]
  },
  {
   "cell_type": "code",
   "execution_count": 2,
   "metadata": {},
   "outputs": [
    {
     "name": "stdout",
     "output_type": "stream",
     "text": [
      "['__add__', '__class__', '__contains__', '__delattr__', '__dir__', '__doc__', '__eq__', '__format__', '__ge__', '__getattribute__', '__getitem__', '__getnewargs__', '__gt__', '__hash__', '__init__', '__init_subclass__', '__iter__', '__le__', '__len__', '__lt__', '__mul__', '__ne__', '__new__', '__reduce__', '__reduce_ex__', '__repr__', '__rmul__', '__setattr__', '__sizeof__', '__str__', '__subclasshook__', 'count', 'index']\n"
     ]
    }
   ],
   "source": [
    "print(dir(MyTuple))"
   ]
  },
  {
   "cell_type": "code",
   "execution_count": 2,
   "metadata": {
    "scrolled": false
   },
   "outputs": [
    {
     "data": {
      "text/plain": [
       "('Red', 'Blue', 'Green', 'Purple')"
      ]
     },
     "execution_count": 2,
     "metadata": {},
     "output_type": "execute_result"
    }
   ],
   "source": [
    "MyTuple = MyTuple.__add__((\"Purple\",)) #adds a new tuple to MyTuple and places the result in a new copy of MyTuple, where the old copy is destroyed\n",
    "MyTuple                                #the __add__ only accepts tuples as inputs therefore the input needs to be in 'tuple' format (\"Purple\",)"
   ]
  },
  {
   "cell_type": "code",
   "execution_count": 4,
   "metadata": {},
   "outputs": [
    {
     "data": {
      "text/plain": [
       "'Yellow'"
      ]
     },
     "execution_count": 4,
     "metadata": {},
     "output_type": "execute_result"
    }
   ],
   "source": [
    "MyTuple = MyTuple.__add__((\"Yellow\", (\"Orange\", \"Black\")))\n",
    "MyTuple[4]"
   ]
  },
  {
   "cell_type": "code",
   "execution_count": 5,
   "metadata": {},
   "outputs": [
    {
     "data": {
      "text/plain": [
       "('Orange', 'Black')"
      ]
     },
     "execution_count": 5,
     "metadata": {},
     "output_type": "execute_result"
    }
   ],
   "source": [
    "MyTuple[5]"
   ]
  },
  {
   "cell_type": "code",
   "execution_count": 7,
   "metadata": {},
   "outputs": [
    {
     "data": {
      "text/plain": [
       "True"
      ]
     },
     "execution_count": 7,
     "metadata": {},
     "output_type": "execute_result"
    }
   ],
   "source": [
    "type(MyTuple[5]) == tuple"
   ]
  },
  {
   "cell_type": "code",
   "execution_count": 12,
   "metadata": {},
   "outputs": [
    {
     "data": {
      "text/plain": [
       "'Orange'"
      ]
     },
     "execution_count": 12,
     "metadata": {},
     "output_type": "execute_result"
    }
   ],
   "source": [
    "MyTuple[5][0] #the first index accesses the first level, the second index accesses the second level"
   ]
  },
  {
   "cell_type": "code",
   "execution_count": 9,
   "metadata": {},
   "outputs": [
    {
     "data": {
      "text/plain": [
       "('Red', 'Blue', 'Green', 'Purple', 'Yellow', ('Orange', 'Black'))"
      ]
     },
     "execution_count": 9,
     "metadata": {},
     "output_type": "execute_result"
    }
   ],
   "source": [
    "MyTuple"
   ]
  },
  {
   "cell_type": "code",
   "execution_count": 11,
   "metadata": {},
   "outputs": [
    {
     "data": {
      "text/plain": [
       "'Black'"
      ]
     },
     "execution_count": 11,
     "metadata": {},
     "output_type": "execute_result"
    }
   ],
   "source": [
    "MyTuple[5][1]"
   ]
  },
  {
   "cell_type": "code",
   "execution_count": 13,
   "metadata": {},
   "outputs": [],
   "source": [
    "MyTuple=(\"Magenta\",) + MyTuple"
   ]
  },
  {
   "cell_type": "code",
   "execution_count": 14,
   "metadata": {},
   "outputs": [
    {
     "data": {
      "text/plain": [
       "('Magenta', 'Red', 'Blue', 'Green', 'Purple', 'Yellow', ('Orange', 'Black'))"
      ]
     },
     "execution_count": 14,
     "metadata": {},
     "output_type": "execute_result"
    }
   ],
   "source": [
    "MyTuple"
   ]
  },
  {
   "cell_type": "code",
   "execution_count": null,
   "metadata": {},
   "outputs": [],
   "source": []
  },
  {
   "cell_type": "code",
   "execution_count": 18,
   "metadata": {},
   "outputs": [
    {
     "data": {
      "text/plain": [
       "('Magenta', 'Red', 'Blue', 'Green', 'Purple', 'Yellow', ('Orange', 'Black'))"
      ]
     },
     "execution_count": 18,
     "metadata": {},
     "output_type": "execute_result"
    }
   ],
   "source": [
    "MyTuple[0:7]"
   ]
  },
  {
   "cell_type": "markdown",
   "metadata": {},
   "source": [
    "# Working with Dictionaries\n",
    "## Creating and using a dictionary"
   ]
  },
  {
   "cell_type": "code",
   "execution_count": null,
   "metadata": {},
   "outputs": [],
   "source": [
    "#a dictionary is like working with a list except that you must now define\n",
    "#a key and value pair.\n",
    "#RULES FOR CREATING A KEY\n",
    "#1#The key must be unique\n",
    "#2#The key must be immutable (meaning you can't change it)"
   ]
  },
  {
   "cell_type": "code",
   "execution_count": 19,
   "metadata": {},
   "outputs": [
    {
     "data": {
      "text/plain": [
       "{'Sam': 'Blue', 'Amy': 'Red', 'Sarah': 'Yellow'}"
      ]
     },
     "execution_count": 19,
     "metadata": {},
     "output_type": "execute_result"
    }
   ],
   "source": [
    "Colors = {\"Sam\": \"Blue\", \"Amy\": \"Red\", \"Sarah\": \"Yellow\"} #items are sorted by key order\n",
    "Colors"
   ]
  },
  {
   "cell_type": "code",
   "execution_count": 20,
   "metadata": {},
   "outputs": [
    {
     "data": {
      "text/plain": [
       "'Yellow'"
      ]
     },
     "execution_count": 20,
     "metadata": {},
     "output_type": "execute_result"
    }
   ],
   "source": [
    "Colors[\"Sarah\"] #no need for an index number"
   ]
  },
  {
   "cell_type": "code",
   "execution_count": 21,
   "metadata": {},
   "outputs": [
    {
     "data": {
      "text/plain": [
       "dict_keys(['Sam', 'Amy', 'Sarah'])"
      ]
     },
     "execution_count": 21,
     "metadata": {},
     "output_type": "execute_result"
    }
   ],
   "source": [
    "Colors.keys()"
   ]
  },
  {
   "cell_type": "code",
   "execution_count": 22,
   "metadata": {},
   "outputs": [
    {
     "data": {
      "text/plain": [
       "dict_items([('Sam', 'Blue'), ('Amy', 'Red'), ('Sarah', 'Yellow')])"
      ]
     },
     "execution_count": 22,
     "metadata": {},
     "output_type": "execute_result"
    }
   ],
   "source": [
    "Colors.items()"
   ]
  },
  {
   "cell_type": "code",
   "execution_count": 11,
   "metadata": {},
   "outputs": [
    {
     "name": "stdout",
     "output_type": "stream",
     "text": [
      "Sam likes the color Blue.\n",
      "Amy likes the color Red.\n",
      "Sarah likes the color Yellow.\n"
     ]
    }
   ],
   "source": [
    "for Item in Colors.keys():\n",
    "   print(\"{0} likes the color {1}.\"\n",
    "      .format(Item, Colors[Item]))"
   ]
  },
  {
   "cell_type": "code",
   "execution_count": 23,
   "metadata": {},
   "outputs": [
    {
     "name": "stdout",
     "output_type": "stream",
     "text": [
      "Sam likes the color Blue.\n",
      "Amy likes the color Red.\n",
      "Sarah likes the color Purple.\n",
      "Harry likes the color Orange.\n"
     ]
    }
   ],
   "source": [
    "Colors[\"Sarah\"] = \"Purple\"\n",
    "Colors.update({\"Harry\": \"Orange\"})\n",
    "for name, color in Colors.items(): #the double output ('name' and 'color') works when we use the items() function\n",
    "    print(\"{0} likes the color {1}.\"\n",
    "          .format(name, color))"
   ]
  },
  {
   "cell_type": "code",
   "execution_count": 24,
   "metadata": {},
   "outputs": [
    {
     "name": "stdout",
     "output_type": "stream",
     "text": [
      "Amy likes the color Red.\n",
      "Sarah likes the color Purple.\n",
      "Harry likes the color Orange.\n"
     ]
    }
   ],
   "source": [
    "del Colors[\"Sam\"]\n",
    "for name, color in Colors.items():\n",
    "    print(\"{0} likes the color {1}.\"\n",
    "          .format(name, color))"
   ]
  },
  {
   "cell_type": "code",
   "execution_count": 25,
   "metadata": {},
   "outputs": [
    {
     "data": {
      "text/plain": [
       "3"
      ]
     },
     "execution_count": 25,
     "metadata": {},
     "output_type": "execute_result"
    }
   ],
   "source": [
    "len(Colors)"
   ]
  },
  {
   "cell_type": "code",
   "execution_count": 26,
   "metadata": {},
   "outputs": [
    {
     "data": {
      "text/plain": [
       "0"
      ]
     },
     "execution_count": 26,
     "metadata": {},
     "output_type": "execute_result"
    }
   ],
   "source": [
    "Colors.clear()\n",
    "len(Colors)"
   ]
  },
  {
   "cell_type": "markdown",
   "metadata": {},
   "source": [
    "## Replacing the switch statement with a dictionary"
   ]
  },
  {
   "cell_type": "code",
   "execution_count": 1,
   "metadata": {},
   "outputs": [
    {
     "name": "stdout",
     "output_type": "stream",
     "text": [
      "0. Blue\n",
      "1. Red\n",
      "2. Orange\n",
      "3. Yellow\n",
      "4. Quit\n",
      "Select a color option: 3\n",
      "You chose yellow!\n",
      "\n",
      "0. Blue\n",
      "1. Red\n",
      "2. Orange\n",
      "3. Yellow\n",
      "4. Quit\n",
      "Select a color option: 4\n"
     ]
    }
   ],
   "source": [
    "def PrintBlue():\n",
    "   print(\"You chose blue!\\r\\n\")\n",
    "def PrintRed():\n",
    "   print(\"You chose red!\\r\\n\")\n",
    "def PrintOrange():\n",
    "   print(\"You chose orange!\\r\\n\")\n",
    "def PrintYellow():\n",
    "   print(\"You chose yellow!\\r\\n\")\n",
    "\n",
    "ColorSelect = {\n",
    "   0: PrintBlue,\n",
    "   1: PrintRed,\n",
    "   2: PrintOrange,\n",
    "   3: PrintYellow\n",
    "}\n",
    "\n",
    "Selection = 0\n",
    "while (Selection != 4):\n",
    "   print(\"0. Blue\")\n",
    "   print(\"1. Red\")\n",
    "   print(\"2. Orange\")\n",
    "   print(\"3. Yellow\")\n",
    "   print(\"4. Quit\")\n",
    "   Selection = int(input(\"Select a color option: \"))\n",
    "   if (Selection >= 0) and (Selection < 4):\n",
    "    ColorSelect[Selection]()"
   ]
  },
  {
   "cell_type": "markdown",
   "metadata": {},
   "source": [
    "# Creating Stacks Using Lists"
   ]
  },
  {
   "cell_type": "code",
   "execution_count": null,
   "metadata": {},
   "outputs": [],
   "source": [
    "#A stack is a programming strcuture that can be used to save an \n",
    "#application execution environment (i.e. the state of variables and other\n",
    "#attributes of the application environment at any given time)"
   ]
  },
  {
   "cell_type": "code",
   "execution_count": 2,
   "metadata": {},
   "outputs": [
    {
     "name": "stdout",
     "output_type": "stream",
     "text": [
      "Stack currently contains:\n",
      "1\n",
      "2\n",
      "3\n",
      "Press any key when ready...g\n",
      "Stack is full!\n",
      "Stack currently contains:\n",
      "1\n",
      "2\n",
      "3\n",
      "Press any key when ready...s\n",
      "Stack currently contains:\n",
      "1\n",
      "2\n",
      "Press any key when ready...s\n",
      "Stack is empty.\n",
      "Stack currently contains:\n"
     ]
    }
   ],
   "source": [
    "MyStack = []\n",
    "StackSize = 3\n",
    "def DisplayStack():\n",
    "   print(\"Stack currently contains:\")\n",
    "   for Item in MyStack:\n",
    "      print(Item)\n",
    "def Push(Value):\n",
    "   if len(MyStack) < StackSize:\n",
    "      MyStack.append(Value)\n",
    "   else:\n",
    "      print(\"Stack is full!\")\n",
    "def Pop():\n",
    "   if len(MyStack) > 0:\n",
    "      MyStack.pop()\n",
    "   else:\n",
    "      print(\"Stack is empty.\")\n",
    "Push(1)\n",
    "Push(2)\n",
    "Push(3)\n",
    "DisplayStack()\n",
    "input(\"Press any key when ready...\")\n",
    "Push(4)\n",
    "DisplayStack()\n",
    "input(\"Press any key when ready...\")\n",
    "Pop()\n",
    "DisplayStack()\n",
    "input(\"Press any key when ready...\")\n",
    "Pop()\n",
    "Pop()\n",
    "Pop()\n",
    "DisplayStack()"
   ]
  },
  {
   "cell_type": "code",
   "execution_count": null,
   "metadata": {},
   "outputs": [],
   "source": [
    "#Any stack implementation that you create must be able to detect both\n",
    "#overflows (too many entries) and underflows(too few entries)"
   ]
  },
  {
   "cell_type": "markdown",
   "metadata": {},
   "source": [
    "# Working with queues"
   ]
  },
  {
   "cell_type": "code",
   "execution_count": 18,
   "metadata": {},
   "outputs": [
    {
     "name": "stdout",
     "output_type": "stream",
     "text": [
      "True\n",
      "Press any key when ready...\n",
      "False\n",
      "Press any key when ready...\n",
      "True\n",
      "Press any key when ready...\n",
      "1\n",
      "False\n",
      "False\n",
      "Press any key when ready...\n",
      "2\n",
      "3\n"
     ]
    }
   ],
   "source": [
    "import queue\n",
    "MyQueue = queue.Queue(3)\n",
    "print(MyQueue.empty())\n",
    "input(\"Press any key when ready...\")\n",
    "MyQueue.put(1) #adds data to queue\n",
    "MyQueue.put(2)\n",
    "print(MyQueue.full())\n",
    "input(\"Press any key when ready...\")\n",
    "MyQueue.put(3)\n",
    "print(MyQueue.full())\n",
    "input(\"Press any key when ready...\")\n",
    "print(MyQueue.get()) #removes data from queue\n",
    "print(MyQueue.empty())\n",
    "print(MyQueue.full())\n",
    "input(\"Press any key when ready...\")\n",
    "print(MyQueue.get())\n",
    "print(MyQueue.get())"
   ]
  },
  {
   "cell_type": "markdown",
   "metadata": {},
   "source": [
    "# Working with deques"
   ]
  },
  {
   "cell_type": "code",
   "execution_count": 3,
   "metadata": {},
   "outputs": [
    {
     "name": "stdout",
     "output_type": "stream",
     "text": [
      "Starting state:\n",
      "a b c d e f \r\n",
      "\r\n",
      "Appending and extending right\n",
      "a b c d e f h i j \r\n",
      "MyDeque contains 9 items.\n",
      "\r\n",
      "Popping right\n",
      "Popping j\n",
      "a b c d e f h i \r\n",
      "\r\n",
      "Appending and extending left\n",
      "c b a a b c d e f h \r\n",
      "MyDeque contains 10 items.\n",
      "\r\n",
      "Popping left\n",
      "Popping c\n",
      "b a a b c d e f h \r\n",
      "\r\n",
      "Removing\n",
      "b a b c d e f h "
     ]
    }
   ],
   "source": [
    "import collections\n",
    "MyDeque = collections.deque(\"abcdef\", 10)\n",
    "print(\"Starting state:\")\n",
    "for Item in MyDeque:\n",
    "   print(Item, end=\" \")\n",
    "print(\"\\r\\n\\r\\nAppending and extending right\")\n",
    "MyDeque.append(\"h\")\n",
    "MyDeque.extend(\"ij\")\n",
    "for Item in MyDeque:\n",
    "   print(Item, end=\" \")\n",
    "print(\"\\r\\nMyDeque contains {0} items.\"\n",
    "      .format(len(MyDeque)))\n",
    "print(\"\\r\\nPopping right\")\n",
    "print(\"Popping {0}\".format(MyDeque.pop()))\n",
    "for Item in MyDeque:\n",
    "   print(Item, end=\" \")\n",
    "print(\"\\r\\n\\r\\nAppending and extending left\")\n",
    "MyDeque.appendleft(\"a\")\n",
    "MyDeque.extendleft(\"bc\") #max length is 10 therefore the i at the end falls off when 'bc' are added\n",
    "for Item in MyDeque:\n",
    "   print(Item, end=\" \")\n",
    "print(\"\\r\\nMyDeque contains {0} items.\"\n",
    "      .format(len(MyDeque)))\n",
    "print(\"\\r\\nPopping left\")\n",
    "print(\"Popping {0}\".format(MyDeque.popleft()))\n",
    "for Item in MyDeque:\n",
    "   print(Item, end=\" \")\n",
    "print(\"\\r\\n\\r\\nRemoving\")\n",
    "MyDeque.remove(\"a\")\n",
    "for Item in MyDeque:\n",
    "   print(Item, end=\" \")"
   ]
  },
  {
   "cell_type": "code",
   "execution_count": null,
   "metadata": {
    "collapsed": true
   },
   "outputs": [],
   "source": []
  }
 ],
 "metadata": {
  "kernelspec": {
   "display_name": "Python 3",
   "language": "python",
   "name": "python3"
  },
  "language_info": {
   "codemirror_mode": {
    "name": "ipython",
    "version": 3
   },
   "file_extension": ".py",
   "mimetype": "text/x-python",
   "name": "python",
   "nbconvert_exporter": "python",
   "pygments_lexer": "ipython3",
   "version": "3.7.3"
  }
 },
 "nbformat": 4,
 "nbformat_minor": 2
}
